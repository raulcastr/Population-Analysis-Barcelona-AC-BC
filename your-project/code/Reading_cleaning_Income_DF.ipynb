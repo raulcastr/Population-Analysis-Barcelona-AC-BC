{
 "cells": [
  {
   "cell_type": "code",
   "execution_count": 1,
   "metadata": {},
   "outputs": [],
   "source": [
    "import pandas as pd\n",
    "import numpy as np"
   ]
  },
  {
   "cell_type": "code",
   "execution_count": 4,
   "metadata": {},
   "outputs": [],
   "source": [
    "#Reading the database \n",
    "\n",
    "url=\"https://www.bcn.cat/estadistica/angles/dades/anuari/cap14/C1401030.htm\"\n",
    "c=pd.read_html(url)\n",
    "rendas=c[0]"
   ]
  },
  {
   "cell_type": "code",
   "execution_count": 5,
   "metadata": {},
   "outputs": [],
   "source": [
    "#Cleaning DataFrame\n",
    "\n",
    "rendas.drop(range(0,5),inplace=True)\n",
    "rendas.drop(range(20,25),inplace=True)\n",
    "rendas.drop(7,inplace=True)\n",
    "rendas.drop(6,inplace=True)\n",
    "rendas.drop(9,inplace=True)\n",
    "\n",
    "rendas.reset_index(inplace=True)\n",
    "rendas.columns = rendas.iloc[0]\n",
    "rendas.drop(0,inplace=True)\n",
    "rendas.reset_index(inplace=True)\n",
    "rendas.drop(columns=[\"index\",5],inplace=True)\n",
    "\n",
    "rendas.columns.duplicated()\n",
    "rendas = rendas.loc[:,~rendas.columns.duplicated()]"
   ]
  },
  {
   "cell_type": "code",
   "execution_count": null,
   "metadata": {},
   "outputs": [],
   "source": [
    "#Converting to numeric for future operations\n",
    "\n",
    "cols = rendas.columns.drop('Districtes')\n",
    "rendas[cols] = rendas[cols].apply(pd.to_numeric, errors='coerce')"
   ]
  },
  {
   "cell_type": "code",
   "execution_count": null,
   "metadata": {
    "scrolled": true
   },
   "outputs": [],
   "source": [
    "#Correcting the data output, it came multiplied by 10 when loaded from url\n",
    "\n",
    "rendas[cols]=rendas[cols]/10\n",
    "rendas.head()"
   ]
  },
  {
   "cell_type": "code",
   "execution_count": 6,
   "metadata": {},
   "outputs": [
    {
     "name": "stderr",
     "output_type": "stream",
     "text": [
      "C:\\Users\\raulc\\anaconda3\\lib\\site-packages\\pandas\\core\\frame.py:3990: SettingWithCopyWarning: \n",
      "A value is trying to be set on a copy of a slice from a DataFrame\n",
      "\n",
      "See the caveats in the documentation: https://pandas.pydata.org/pandas-docs/stable/user_guide/indexing.html#returning-a-view-versus-a-copy\n",
      "  return super().drop(\n"
     ]
    },
    {
     "data": {
      "text/html": [
       "<div>\n",
       "<style scoped>\n",
       "    .dataframe tbody tr th:only-of-type {\n",
       "        vertical-align: middle;\n",
       "    }\n",
       "\n",
       "    .dataframe tbody tr th {\n",
       "        vertical-align: top;\n",
       "    }\n",
       "\n",
       "    .dataframe thead th {\n",
       "        text-align: right;\n",
       "    }\n",
       "</style>\n",
       "<table border=\"1\" class=\"dataframe\">\n",
       "  <thead>\n",
       "    <tr style=\"text-align: right;\">\n",
       "      <th></th>\n",
       "      <th>Districtes</th>\n",
       "      <th>2013</th>\n",
       "      <th>2014</th>\n",
       "      <th>2015</th>\n",
       "      <th>2016</th>\n",
       "      <th>2017</th>\n",
       "    </tr>\n",
       "  </thead>\n",
       "  <tbody>\n",
       "    <tr>\n",
       "      <th>1</th>\n",
       "      <td>1. Ciutat Vella</td>\n",
       "      <td>77.2</td>\n",
       "      <td>79.7</td>\n",
       "      <td>85.5</td>\n",
       "      <td>86.9</td>\n",
       "      <td>84.3</td>\n",
       "    </tr>\n",
       "    <tr>\n",
       "      <th>2</th>\n",
       "      <td>2. Eixample</td>\n",
       "      <td>116.4</td>\n",
       "      <td>115.9</td>\n",
       "      <td>115.8</td>\n",
       "      <td>119.3</td>\n",
       "      <td>122.4</td>\n",
       "    </tr>\n",
       "    <tr>\n",
       "      <th>3</th>\n",
       "      <td>3. Sants-Montjuïc</td>\n",
       "      <td>75.3</td>\n",
       "      <td>75.8</td>\n",
       "      <td>78.1</td>\n",
       "      <td>79.1</td>\n",
       "      <td>84.6</td>\n",
       "    </tr>\n",
       "    <tr>\n",
       "      <th>4</th>\n",
       "      <td>4. Les Corts</td>\n",
       "      <td>140.3</td>\n",
       "      <td>139.7</td>\n",
       "      <td>138.3</td>\n",
       "      <td>136.0</td>\n",
       "      <td>137.3</td>\n",
       "    </tr>\n",
       "    <tr>\n",
       "      <th>5</th>\n",
       "      <td>5. Sarrià-Sant Gervasi</td>\n",
       "      <td>186.7</td>\n",
       "      <td>184.3</td>\n",
       "      <td>188.0</td>\n",
       "      <td>182.4</td>\n",
       "      <td>182.8</td>\n",
       "    </tr>\n",
       "  </tbody>\n",
       "</table>\n",
       "</div>"
      ],
      "text/plain": [
       "0              Districtes   2013   2014   2015   2016   2017\n",
       "1         1. Ciutat Vella   77.2   79.7   85.5   86.9   84.3\n",
       "2             2. Eixample  116.4  115.9  115.8  119.3  122.4\n",
       "3       3. Sants-Montjuïc   75.3   75.8   78.1   79.1   84.6\n",
       "4            4. Les Corts  140.3  139.7  138.3  136.0  137.3\n",
       "5  5. Sarrià-Sant Gervasi  186.7  184.3  188.0  182.4  182.8"
      ]
     },
     "execution_count": 6,
     "metadata": {},
     "output_type": "execute_result"
    }
   ],
   "source": [
    "# Droping first (Barcelona) row to match lenghtwith the districts DataFrame\n",
    "\n",
    "rendas.drop(0,inplace=True)\n",
    "\n",
    "rendas.head()"
   ]
  },
  {
   "cell_type": "code",
   "execution_count": 7,
   "metadata": {},
   "outputs": [],
   "source": [
    "#Saving to a csv file\n",
    "\n",
    "rendas.to_csv(\"../../datasets/RFD.csv\")"
   ]
  }
 ],
 "metadata": {
  "kernelspec": {
   "display_name": "Python 3",
   "language": "python",
   "name": "python3"
  },
  "language_info": {
   "codemirror_mode": {
    "name": "ipython",
    "version": 3
   },
   "file_extension": ".py",
   "mimetype": "text/x-python",
   "name": "python",
   "nbconvert_exporter": "python",
   "pygments_lexer": "ipython3",
   "version": "3.8.3"
  }
 },
 "nbformat": 4,
 "nbformat_minor": 4
}
